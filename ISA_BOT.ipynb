{
 "cells": [
  {
   "cell_type": "code",
   "execution_count": null,
   "metadata": {},
   "outputs": [],
   "source": [
    "import telepot\n",
    "from telepot.namedtuple import InlineKeyboardButton, InlineKeyboardMarkup\n",
    "#from telegram import InlineKeyboardButton, InlineKeyboardMarkup\n",
    "import sys, time\n",
    "from pprint import pprint\n",
    "import pandas as pd\n",
    "import requests\n",
    "import csv    \n",
    "import io"
   ]
  },
  {
   "cell_type": "code",
   "execution_count": null,
   "metadata": {},
   "outputs": [],
   "source": [
    "#Bot Isa Makeup - Token\n",
    "isabot = telepot.Bot(\"711034763:AAF2pyR29WoKLmII14ED5CvsfzqUc9jpkhA\")"
   ]
  },
  {
   "cell_type": "code",
   "execution_count": null,
   "metadata": {},
   "outputs": [],
   "source": [
    "#Lista Mensagens enviadas para o Bot\n",
    "#isabot.getUpdates( )"
   ]
  },
  {
   "cell_type": "code",
   "execution_count": null,
   "metadata": {},
   "outputs": [],
   "source": [
    "#Comando para enviar mensagem via Bot para ID + MSG\n",
    "#isabot.sendMessage(424716799,'Olá Romulo, procura saber sobre maquiagem?')"
   ]
  },
  {
   "cell_type": "code",
   "execution_count": null,
   "metadata": {},
   "outputs": [],
   "source": [
    "#isabot.sendMessage(424716799, 'Boa noite!!!')"
   ]
  },
  {
   "cell_type": "code",
   "execution_count": null,
   "metadata": {},
   "outputs": [],
   "source": [
    "#Função Recebe Mensagem, estruturando por tipo e respondendo o mesmo texto enviado. \n",
    "#def recebemensagem(msg):\n",
    "#    content_type, chat_type, chat_id = telepot.glance(msg)\n",
    "#    print(content_type, chat_type, chat_id)\n",
    "##     print(msg)\n",
    "    \n",
    "#    if content_type == 'text':\n",
    "#        isabot.sendMessage(chat_id, msg['text'])\n",
    "\n",
    "#isabot.message_loop(recebemensagem)\n",
    "\n",
    "#while 1:\n",
    "#    time.sleep(3)"
   ]
  },
  {
   "cell_type": "code",
   "execution_count": 1,
   "metadata": {},
   "outputs": [],
   "source": [
    "#isabot.sendMessage(chat_id,'Olá, Bem vindo ao mundo sobre maquiagem?')\n",
    "#isabot.sendMessage(424716799,'Olá Romulo, procura saber sobre maquiagem?')"
   ]
  },
  {
   "cell_type": "code",
   "execution_count": null,
   "metadata": {},
   "outputs": [],
   "source": [
    "#Função Recebe Mensagem, estruturando por tipo. \n",
    "#def recebemensagem(msg):\n",
    "#    content_type, chat_type, chat_id = telepot.glance(msg)\n",
    "#    print(content_type, chat_type, chat_id)\n",
    "#    print(msg)\n",
    "    \n",
    "    \n",
    "#isabot.message_loop(recebemensagem)\n",
    "\n",
    "#while 1:\n",
    "#    time.sleep(3)"
   ]
  },
  {
   "cell_type": "code",
   "execution_count": null,
   "metadata": {},
   "outputs": [],
   "source": [
    "#Função Cria o Menu e interage com retorno de mensagem.\n",
    "\n",
    "def on_chat_message(msg):\n",
    "    content_type, chat_type, chat_id = telepot.glance(msg)\n",
    "    \n",
    "    keyboard = InlineKeyboardMarkup(inline_keyboard=[\n",
    "        [InlineKeyboardButton(text=\"Preparação da Pele\", callback_data='menu_1')],\n",
    "        [InlineKeyboardButton(text=\"Maquiagens Passo a Passo\", callback_data='menu_2')],\n",
    "        [InlineKeyboardButton(text=\"Novidades de Acessórios / Produtos\", callback_data='menu_3')],\n",
    "        [InlineKeyboardButton(text=\"Tendências de 2019\", callback_data='menu_4')],\n",
    "        [InlineKeyboardButton(text=\"Onde Comprar?\", callback_data='menu_5')],\n",
    "        ])\n",
    "    \n",
    "    isabot.sendMessage(chat_id, \"Olá! Que bom ter você por aqui! Utilize o menu abaixo para conferir algumas dicas de Maquiagem Profissional! Vamos lá? \", reply_markup=keyboard)\n",
    "   \n",
    "\n",
    "\n",
    "def on_callback_query(msg):\n",
    "    \n",
    "    query_id, from_id, query_data = telepot.glance(msg, flavor='callback_query')\n",
    "    \n",
    "    print(\"Callback Query: \", query_id, from_id, query_data)\n",
    "    \n",
    "    isabot.answerCallbackQuery(query_id, text=\"Dicas da Semana!\")\n",
    "    \n",
    "    if query_data == 'menu_1':\n",
    "    \n",
    "        #from_id - Código para envio de mensagem em resposta complementar ao clique na opção do menu.\n",
    "        isabot.sendMessage(from_id, \"1 – Remova as impurezas. Se você estiver maquiada, primeiro passe o demaquilante e depois lave bem o rosto com um sabonete próprio para limpeza profunda do rosto.\")\n",
    "        isabot.sendMessage(from_id, \"2 – Tonifique sua pele.\")\n",
    "        isabot.sendMessage(from_id, \"3 – Hidrate sua pele antes de aplicar a maquiagem.\")\n",
    "        isabot.sendMessage(from_id, \"4 – Use o primer para garantir melhores resultados.\")\n",
    "        isabot.sendMessage(from_id, \"Veja mais em... Instagram @isa_belasoares\")\n",
    "        isabot.sendPhoto(from_id, 'https://pt.shopify.com/burst/imagens-hd/mao-de-mulher-e-parte-do-rosto?q=rosto')\n",
    "        isabot.sendMessage(from_id, \"Gostou das dicas? Digite algo para voltar ao menu.\")\n",
    "    \n",
    "    elif query_data == 'menu_2':\n",
    "        isabot.sendMessage(from_id, \"1 – Use base liquida ou cremosa e aplique corretivo de para manchas e olheiras.\")\n",
    "        isabot.sendMessage(from_id, \"2 – Passe as sombras certas usando os pinceis mais práticos.\")\n",
    "        isabot.sendMessage(from_id, \"3 – Use um pouco delineador para definir o formato do olho e rímel.\")\n",
    "        isabot.sendMessage(from_id, \"4 – Passe um pó compacto de cor ou translúcido no rosto.\")\n",
    "        isabot.sendMessage(from_id, \"5 – Aplicar pó bronzeador e blush nas maçãs do rosto.\")\n",
    "        isabot.sendMessage(from_id, \"Veja mais em... Instagram @isa_belasoares\")\n",
    "        isabot.sendPhoto(from_id, 'https://pt.shopify.com/burst/imagens-hd/mulher-em-seda-rosa')\n",
    "        isabot.sendMessage(from_id, \"Gostou das dicas? Digite algo para voltar ao menu.\")\n",
    "    \n",
    "    elif query_data == 'menu_3':\n",
    "        isabot.sendMessage(from_id, \"1 – Powder - Pincel para Pó\")\n",
    "        isabot.sendMessage(from_id, \"2 – Concealer - Pincel para Corretivo\")\n",
    "        isabot.sendMessage(from_id, \"3 – Drama Blend - Esponja para Base e Corretivo\")\n",
    "        isabot.sendMessage(from_id, \"Veja mais em... Instagram @isa_belasoares\")\n",
    "        isabot.sendPhoto(from_id, 'https://pt.shopify.com/burst/imagens-hd/maquiagem-po-base-e-pinceis?q=maquiagem')\n",
    "        isabot.sendMessage(from_id, \"Gostou das dicas? Digite algo para voltar ao menu.\")\n",
    "        \n",
    "    elif query_data == 'menu_4':\n",
    "        isabot.sendMessage(from_id, \"Preparamos um artigo muito especial para você! Acesse:\")\n",
    "        isabot.sendMessage(from_id, \"https://drive.google.com/file/d/1UVglWQXfPkqOBFgubPPsDnP9t3nb6rFZ/view?usp=sharing\")\n",
    "        isabot.sendMessage(from_id, \"Gostou das dicas? Digite algo para voltar ao menu.\")\n",
    "        \n",
    "        \n",
    "    elif query_data == 'menu_5':\n",
    "        \n",
    "            headers={}\n",
    "            headers[\"User-Agent\"]= \"Mozilla/5.0 (Windows NT 6.2; WOW64; rv:22.0) Gecko/20100101 Firefox/22.0\"\n",
    "            headers[\"DNT\"]= \"1\"\n",
    "            headers[\"Accept\"] = \"text/html,application/xhtml+xml,application/xml;q=0.9,*/*;q=0.8\"\n",
    "            headers[\"Accept-Encoding\"] = \"deflate\"\n",
    "            headers[\"Accept-Language\"]= \"en-US,en;q=0.5\"\n",
    "            lines = []\n",
    "  \n",
    "            file_id=\"1Mk9N1iW7Sg__JiEO4UkrtP6F8UsNFjHufv1MptaEThQ\"\n",
    "            url = \"https://docs.google.com/spreadsheets/d/{0}/export?format=csv\".format(file_id)\n",
    "\n",
    "            r = requests.get(url)\n",
    "\n",
    "            data = {}\n",
    "            cols = []\n",
    "\n",
    "            sio = io.StringIO( r.text, newline=None)\n",
    "            reader = csv.reader(sio, dialect=csv.excel)\n",
    "            rownum = 0\n",
    "\n",
    "            for row in reader:\n",
    "                if rownum == 0:\n",
    "                    for col in row:\n",
    "                        data[col] = ''\n",
    "                        cols.append(col)\n",
    "\n",
    "                else:\n",
    "                    i = 0\n",
    "                    for col in row:\n",
    "                        data[cols[i]] = col\n",
    "                        i = i +1\n",
    "\n",
    "        \n",
    "                    dados = data\n",
    "                    isabot.sendMessage(from_id, dados)\n",
    "                    isabot.sendMessage(from_id, \"#############\")\n",
    "                \n",
    "                rownum = rownum + 1\n",
    "            \n",
    "            isabot.sendMessage(from_id, \"Gostou das dicas? Digite algo para voltar ao menu.\")\n",
    "             \n",
    "          \n",
    "    \n",
    "isabot.message_loop({'chat': on_chat_message,\n",
    "                     'callback_query': on_callback_query })\n",
    "\n",
    "\n",
    "while 1:\n",
    "    time.sleep(3)"
   ]
  },
  {
   "cell_type": "code",
   "execution_count": null,
   "metadata": {},
   "outputs": [],
   "source": []
  },
  {
   "cell_type": "code",
   "execution_count": null,
   "metadata": {},
   "outputs": [],
   "source": []
  },
  {
   "cell_type": "code",
   "execution_count": null,
   "metadata": {},
   "outputs": [],
   "source": []
  }
 ],
 "metadata": {
  "kernelspec": {
   "display_name": "Python 3",
   "language": "python",
   "name": "python3"
  },
  "language_info": {
   "codemirror_mode": {
    "name": "ipython",
    "version": 3
   },
   "file_extension": ".py",
   "mimetype": "text/x-python",
   "name": "python",
   "nbconvert_exporter": "python",
   "pygments_lexer": "ipython3",
   "version": "3.6.4"
  }
 },
 "nbformat": 4,
 "nbformat_minor": 2
}
